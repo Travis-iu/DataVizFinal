{
 "cells": [
  {
   "cell_type": "code",
   "execution_count": 3,
   "metadata": {},
   "outputs": [
    {
     "name": "stderr",
     "output_type": "stream",
     "text": [
      "C:\\ProgramData\\Anaconda3\\lib\\site-packages\\statsmodels\\tools\\_testing.py:19: FutureWarning: pandas.util.testing is deprecated. Use the functions in the public API at pandas.testing instead.\n",
      "  import pandas.util.testing as tm\n"
     ]
    }
   ],
   "source": [
    "import numpy as np\n",
    "import pandas as pd \n",
    "import os\n",
    "import matplotlib.pyplot as plt\n",
    "import seaborn as sns\n",
    "\n",
    "#import warnings\n",
    "#warnings.filterwarnings('ignore')\n",
    "%matplotlib inline"
   ]
  },
  {
   "cell_type": "code",
   "execution_count": 7,
   "metadata": {},
   "outputs": [],
   "source": [
    "def load_data(in_path, name):\n",
    "    df = pd.read_csv(in_path)\n",
    "    #print(f\"{name}: shape is {df.shape}\")\n",
    "    #print(df.info())\n",
    "    #display(df.head(5))\n",
    "    return df\n",
    "\n",
    "DATA_DIR = \"C:/Users/Owner/Documents/Class/DataViz/Final/data/rosters\"\n",
    "datasets={}"
   ]
  },
  {
   "cell_type": "code",
   "execution_count": 8,
   "metadata": {},
   "outputs": [],
   "source": [
    "ds_name = 'pre_roster_2009'\n",
    "datasets[ds_name] = load_data(os.path.join(DATA_DIR, f'{ds_name}.csv'), ds_name)"
   ]
  },
  {
   "cell_type": "code",
   "execution_count": 9,
   "metadata": {},
   "outputs": [
    {
     "data": {
      "text/plain": [
       "(92, 7)"
      ]
     },
     "execution_count": 9,
     "metadata": {},
     "output_type": "execute_result"
    }
   ],
   "source": [
    "datasets['pre_roster_2009'].shape"
   ]
  },
  {
   "cell_type": "code",
   "execution_count": 31,
   "metadata": {},
   "outputs": [],
   "source": [
    "pre_roster_2009 = load_data(os.path.join(DATA_DIR, f'pre_roster_2009.csv'), 'pre_roster_2009')\n",
    "pre_roster_2009['Made_Roster'] = 0\n",
    "\n",
    "reg_roster_2009 = load_data(os.path.join(DATA_DIR, f'reg_roster_2009.csv'), 'reg_roster_2009')\n",
    "reg_roster_2009['Made_Roster'] = 1\n",
    "\n",
    "roster_2009 = reg_roster_2009.append(pre_roster_2009)"
   ]
  },
  {
   "cell_type": "code",
   "execution_count": 32,
   "metadata": {},
   "outputs": [
    {
     "data": {
      "text/html": [
       "<div>\n",
       "<style scoped>\n",
       "    .dataframe tbody tr th:only-of-type {\n",
       "        vertical-align: middle;\n",
       "    }\n",
       "\n",
       "    .dataframe tbody tr th {\n",
       "        vertical-align: top;\n",
       "    }\n",
       "\n",
       "    .dataframe thead th {\n",
       "        text-align: right;\n",
       "    }\n",
       "</style>\n",
       "<table border=\"1\" class=\"dataframe\">\n",
       "  <thead>\n",
       "    <tr style=\"text-align: right;\">\n",
       "      <th></th>\n",
       "      <th>season</th>\n",
       "      <th>season_type</th>\n",
       "      <th>full_player_name</th>\n",
       "      <th>abbr_player_name</th>\n",
       "      <th>team</th>\n",
       "      <th>position</th>\n",
       "      <th>gsis_id</th>\n",
       "      <th>Made_Roster</th>\n",
       "    </tr>\n",
       "  </thead>\n",
       "  <tbody>\n",
       "    <tr>\n",
       "      <th>0</th>\n",
       "      <td>2009</td>\n",
       "      <td>reg</td>\n",
       "      <td>Aaron Brown</td>\n",
       "      <td>A.Brown</td>\n",
       "      <td>DET</td>\n",
       "      <td>RB</td>\n",
       "      <td>00-0027129</td>\n",
       "      <td>1</td>\n",
       "    </tr>\n",
       "    <tr>\n",
       "      <th>1</th>\n",
       "      <td>2009</td>\n",
       "      <td>reg</td>\n",
       "      <td>Aaron Rodgers</td>\n",
       "      <td>A.Rodgers</td>\n",
       "      <td>GB</td>\n",
       "      <td>QB</td>\n",
       "      <td>00-0023459</td>\n",
       "      <td>1</td>\n",
       "    </tr>\n",
       "    <tr>\n",
       "      <th>2</th>\n",
       "      <td>2009</td>\n",
       "      <td>reg</td>\n",
       "      <td>Aaron Stecker</td>\n",
       "      <td>A.Stecker</td>\n",
       "      <td>ATL</td>\n",
       "      <td>RB</td>\n",
       "      <td>00-0015601</td>\n",
       "      <td>1</td>\n",
       "    </tr>\n",
       "    <tr>\n",
       "      <th>3</th>\n",
       "      <td>2009</td>\n",
       "      <td>reg</td>\n",
       "      <td>Adrian Peterson</td>\n",
       "      <td>A.Peterson</td>\n",
       "      <td>CHI</td>\n",
       "      <td>RB</td>\n",
       "      <td>00-0021306</td>\n",
       "      <td>1</td>\n",
       "    </tr>\n",
       "    <tr>\n",
       "      <th>4</th>\n",
       "      <td>2009</td>\n",
       "      <td>reg</td>\n",
       "      <td>Adrian Peterson</td>\n",
       "      <td>A.Peterson</td>\n",
       "      <td>MIN</td>\n",
       "      <td>RB</td>\n",
       "      <td>00-0025394</td>\n",
       "      <td>1</td>\n",
       "    </tr>\n",
       "  </tbody>\n",
       "</table>\n",
       "</div>"
      ],
      "text/plain": [
       "   season season_type full_player_name abbr_player_name team position  \\\n",
       "0    2009         reg      Aaron Brown          A.Brown  DET       RB   \n",
       "1    2009         reg    Aaron Rodgers        A.Rodgers   GB       QB   \n",
       "2    2009         reg    Aaron Stecker        A.Stecker  ATL       RB   \n",
       "3    2009         reg  Adrian Peterson       A.Peterson  CHI       RB   \n",
       "4    2009         reg  Adrian Peterson       A.Peterson  MIN       RB   \n",
       "\n",
       "      gsis_id  Made_Roster  \n",
       "0  00-0027129            1  \n",
       "1  00-0023459            1  \n",
       "2  00-0015601            1  \n",
       "3  00-0021306            1  \n",
       "4  00-0025394            1  "
      ]
     },
     "execution_count": 32,
     "metadata": {},
     "output_type": "execute_result"
    }
   ],
   "source": [
    "roster_2009.head()"
   ]
  },
  {
   "cell_type": "code",
   "execution_count": 74,
   "metadata": {},
   "outputs": [],
   "source": [
    "years = [2010, 2011, 2012, 2013, 2014, 2015, 2016, 2017, 2018, 2019]"
   ]
  },
  {
   "cell_type": "code",
   "execution_count": 111,
   "metadata": {},
   "outputs": [
    {
     "name": "stdout",
     "output_type": "stream",
     "text": [
      "(604, 7)\n",
      "(1198, 8)\n",
      "(676, 7)\n",
      "(1874, 8)\n",
      "(663, 7)\n",
      "(2537, 8)\n",
      "(657, 7)\n",
      "(3194, 8)\n",
      "(673, 7)\n",
      "(3867, 8)\n",
      "(638, 7)\n",
      "(4505, 8)\n",
      "(667, 7)\n",
      "(5172, 8)\n",
      "(684, 7)\n",
      "(5856, 8)\n",
      "(733, 7)\n",
      "(6589, 8)\n",
      "(747, 7)\n",
      "(7336, 8)\n"
     ]
    }
   ],
   "source": [
    "roster_all = roster_2009.copy()\n",
    "\n",
    "for ii in years:\n",
    "    pre_name = 'pre_roster_' + str(ii)\n",
    "    pre_df = load_data(os.path.join(DATA_DIR, f'{pre_name}.csv'), pre_name)\n",
    "    print(pre_df.shape)\n",
    "    \n",
    "    reg_name = 'reg_roster_' + str(ii)\n",
    "    reg_df = load_data(os.path.join(DATA_DIR, f'{reg_name}.csv'), reg_name)\n",
    "    \n",
    "    roster_df = pre_df.assign(Made_Roster=pre_df.gsis_id.isin(reg_df.gsis_id).astype(int))\n",
    "    \n",
    "    roster_all = roster_all.append(roster_df)\n",
    "    print(roster_all.shape)\n",
    "    \n",
    "roster_all = roster_all.drop(['season_type'], axis=1)"
   ]
  },
  {
   "cell_type": "code",
   "execution_count": 112,
   "metadata": {},
   "outputs": [
    {
     "data": {
      "image/png": "[encoded data removed]",
      "text/plain": [
       "<Figure size 432x288 with 1 Axes>"
      ]
     },
     "metadata": {
      "needs_background": "light"
     },
     "output_type": "display_data"
    }
   ],
   "source": [
    "sns.countplot(x=\"position\", data=roster_all);"
   ]
  },
  {
   "cell_type": "code",
   "execution_count": 113,
   "metadata": {},
   "outputs": [
    {
     "data": {
      "text/plain": [
       "<matplotlib.axes._subplots.AxesSubplot at 0x1e6fc140668>"
      ]
     },
     "execution_count": 113,
     "metadata": {},
     "output_type": "execute_result"
    },
    {
     "data": {
      "image/png": "[encoded data removed]",
      "text/plain": [
       "<Figure size 432x288 with 1 Axes>"
      ]
     },
     "metadata": {
      "needs_background": "light"
     },
     "output_type": "display_data"
    }
   ],
   "source": [
    "roster_all.groupby(['position', 'Made_Roster']).size().unstack().plot(kind='bar', stacked=True)"
   ]
  },
  {
   "cell_type": "code",
   "execution_count": 114,
   "metadata": {},
   "outputs": [
    {
     "data": {
      "text/plain": [
       "<matplotlib.axes._subplots.AxesSubplot at 0x1e6fc1b8518>"
      ]
     },
     "execution_count": 114,
     "metadata": {},
     "output_type": "execute_result"
    },
    {
     "data": {
      "image/png": "[encoded data removed]",
      "text/plain": [
       "<Figure size 432x288 with 1 Axes>"
      ]
     },
     "metadata": {
      "needs_background": "light"
     },
     "output_type": "display_data"
    }
   ],
   "source": [
    "roster_all.groupby(['season', 'position']).size().unstack().plot(kind='line')"
   ]
  },
  {
   "cell_type": "code",
   "execution_count": 116,
   "metadata": {},
   "outputs": [
    {
     "data": {
      "text/plain": [
       "<matplotlib.axes._subplots.AxesSubplot at 0x1e6fc2daeb8>"
      ]
     },
     "execution_count": 116,
     "metadata": {},
     "output_type": "execute_result"
    },
    {
     "data": {
      "image/png": "[encoded data removed]",
      "text/plain": [
       "<Figure size 432x288 with 1 Axes>"
      ]
     },
     "metadata": {
      "needs_background": "light"
     },
     "output_type": "display_data"
    }
   ],
   "source": [
    "roster_all[roster_all['Made_Roster'] == 0].groupby(['season', 'position']).size().unstack().plot(kind='line')"
   ]
  },
  {
   "cell_type": "code",
   "execution_count": 121,
   "metadata": {},
   "outputs": [
    {
     "data": {
      "image/png": "[encoded data removed]",
      "text/plain": [
       "<Figure size 432x288 with 1 Axes>"
      ]
     },
     "metadata": {
      "needs_background": "light"
     },
     "output_type": "display_data"
    }
   ],
   "source": [
    "sns.countplot(x=\"season\", data=roster_all);"
   ]
  },
  {
   "cell_type": "code",
   "execution_count": 122,
   "metadata": {},
   "outputs": [
    {
     "data": {
      "image/png": "[encoded data removed]",
      "text/plain": [
       "<Figure size 432x288 with 1 Axes>"
      ]
     },
     "metadata": {
      "needs_background": "light"
     },
     "output_type": "display_data"
    }
   ],
   "source": [
    "sns.countplot(x=\"season\", data=roster_all[roster_all['Made_Roster'] == 1]);"
   ]
  },
  {
   "cell_type": "code",
   "execution_count": null,
   "metadata": {},
   "outputs": [],
   "source": []
  }
 ],
 "metadata": {
  "kernelspec": {
   "display_name": "Python 3",
   "language": "python",
   "name": "python3"
  },
  "language_info": {
   "codemirror_mode": {
    "name": "ipython",
    "version": 3
   },
   "file_extension": ".py",
   "mimetype": "text/x-python",
   "name": "python",
   "nbconvert_exporter": "python",
   "pygments_lexer": "ipython3",
   "version": "3.7.3"
  },
  "toc": {
   "base_numbering": 1,
   "nav_menu": {},
   "number_sections": true,
   "sideBar": true,
   "skip_h1_title": false,
   "title_cell": "Table of Contents",
   "title_sidebar": "Contents",
   "toc_cell": false,
   "toc_position": {},
   "toc_section_display": true,
   "toc_window_display": false
  }
 },
 "nbformat": 4,
 "nbformat_minor": 2
}
