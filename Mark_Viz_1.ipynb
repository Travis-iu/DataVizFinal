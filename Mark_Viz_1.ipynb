{
 "cells": [
  {
   "cell_type": "code",
   "execution_count": 1,
   "metadata": {},
   "outputs": [
    {
     "name": "stderr",
     "output_type": "stream",
     "text": [
      "C:\\ProgramData\\Anaconda3\\lib\\site-packages\\statsmodels\\tools\\_testing.py:19: FutureWarning: pandas.util.testing is deprecated. Use the functions in the public API at pandas.testing instead.\n",
      "  import pandas.util.testing as tm\n"
     ]
    }
   ],
   "source": [
    "import numpy as np\n",
    "import pandas as pd \n",
    "import os\n",
    "import datetime\n",
    "import matplotlib.pyplot as plt\n",
    "import seaborn as sns\n",
    "\n",
    "#import warnings\n",
    "#warnings.filterwarnings('ignore')\n",
    "%matplotlib inline"
   ]
  },
  {
   "cell_type": "code",
   "execution_count": 2,
   "metadata": {},
   "outputs": [],
   "source": [
    "def load_data(in_path, name):\n",
    "    df = pd.read_csv(in_path, low_memory=False)\n",
    "    #print(f\"{name}: shape is {df.shape}\")\n",
    "    #print(df.info())\n",
    "    #display(df.head(5))\n",
    "    return df"
   ]
  },
  {
   "cell_type": "markdown",
   "metadata": {},
   "source": [
    "### Load Roster Data"
   ]
  },
  {
   "cell_type": "code",
   "execution_count": 3,
   "metadata": {},
   "outputs": [],
   "source": [
    "DATA_DIR = \"C:/Users/Owner/Documents/Class/DataViz/Final/data/rosters\"\n",
    "datasets={}"
   ]
  },
  {
   "cell_type": "code",
   "execution_count": 4,
   "metadata": {},
   "outputs": [],
   "source": [
    "pre_roster_2009 = load_data(os.path.join(DATA_DIR, f'pre_roster_2009.csv'), 'pre_roster_2009')\n",
    "pre_roster_2009['Made_Roster'] = 0\n",
    "\n",
    "reg_roster_2009 = load_data(os.path.join(DATA_DIR, f'reg_roster_2009.csv'), 'reg_roster_2009')\n",
    "reg_roster_2009['Made_Roster'] = 1\n",
    "\n",
    "roster_2009 = reg_roster_2009.append(pre_roster_2009)"
   ]
  },
  {
   "cell_type": "code",
   "execution_count": 5,
   "metadata": {},
   "outputs": [],
   "source": [
    "years = [2010, 2011, 2012, 2013, 2014, 2015, 2016, 2017, 2018, 2019]"
   ]
  },
  {
   "cell_type": "code",
   "execution_count": 6,
   "metadata": {},
   "outputs": [],
   "source": [
    "roster_all = roster_2009.copy()\n",
    "\n",
    "for ii in years:\n",
    "    pre_name = 'pre_roster_' + str(ii)\n",
    "    pre_df = load_data(os.path.join(DATA_DIR, f'{pre_name}.csv'), pre_name)\n",
    "    #print(pre_df.shape)\n",
    "    \n",
    "    reg_name = 'reg_roster_' + str(ii)\n",
    "    reg_df = load_data(os.path.join(DATA_DIR, f'{reg_name}.csv'), reg_name)\n",
    "    \n",
    "    roster_df = pre_df.assign(Made_Roster=pre_df.gsis_id.isin(reg_df.gsis_id).astype(int))\n",
    "    \n",
    "    roster_all = roster_all.append(roster_df)\n",
    "    #print(roster_all.shape)\n",
    "    \n",
    "roster_all = roster_all.drop(['season_type'], axis=1)"
   ]
  },
  {
   "cell_type": "markdown",
   "metadata": {},
   "source": [
    "### Transform Play-By-Play Data"
   ]
  },
  {
   "cell_type": "code",
   "execution_count": 7,
   "metadata": {},
   "outputs": [],
   "source": [
    "years.append(2009)\n",
    "\n",
    "DATA_DIR = \"C:/Users/Owner/Documents/Class/DataViz/Final/data/pbp\""
   ]
  },
  {
   "cell_type": "code",
   "execution_count": 8,
   "metadata": {},
   "outputs": [],
   "source": [
    "columns = ['game_id', 'yardline_100', 'half_seconds_remaining', 'game_seconds_remaining', 'game_half', 'drive', 'qtr', 'down', \n",
    "           'goal_to_go', 'ydstogo', 'ydsnet', 'play_type', 'yards_gained','air_yards', 'yards_after_catch', \n",
    "           'two_point_converted', 'two_point_failed', 'third_down_converted', 'third_down_failed',\n",
    "           'fourth_down_converted', 'fourth_down_failed', 'incomplete_pass', 'interception', 'penalty', 'fumble_lost',\n",
    "           'touchdown', 'fumble', 'complete_pass', 'passer_player_id', 'receiver_player_id', 'rusher_player_id',\n",
    "           'fumbled_1_player_id', 'penalty_player_id', 'penalty_yards',\n",
    "           'unique_id', 'season', 'Two_Min', 'Redzone', 'Per_Yards_Gained', 'Success_Play']"
   ]
  },
  {
   "cell_type": "code",
   "execution_count": 9,
   "metadata": {},
   "outputs": [],
   "source": [
    "pbp_all = pd.DataFrame(columns = columns)\n",
    "\n",
    "for ii in years:\n",
    "    pbp_name = 'pre_pbp_' + str(ii)\n",
    "    pbp_df = load_data(os.path.join(DATA_DIR, f'{pbp_name}.csv'), pbp_name)\n",
    "    \n",
    "    #get unique ID for each play\n",
    "    pbp_df['unique_id'] = pbp_df['play_id'].astype(str) + pbp_df['game_id'].astype(str)\n",
    "    \n",
    "    #add year of game\n",
    "    pbp_df['season'] = ii\n",
    "    \n",
    "    #keep plays we are concerned with\n",
    "    pbp_df = pbp_df[(pbp_df.play_type == 'pass') | (pbp_df.play_type == 'run')]\n",
    "    \n",
    "    #encode two point conversions\n",
    "    two_conv_df = pbp_df[(pbp_df.two_point_conv_result == 'success')]\n",
    "    pbp_df = pbp_df.assign(two_point_converted=pbp_df.unique_id.isin(two_conv_df.unique_id).astype(int))\n",
    "    \n",
    "    two_fail_df = pbp_df[(pbp_df.two_point_conv_result == 'failure')]\n",
    "    pbp_df = pbp_df.assign(two_point_failed=pbp_df.unique_id.isin(two_fail_df.unique_id).astype(int))\n",
    "    \n",
    "    #flag plays in last two mins of a half\n",
    "    two_min_df = pbp_df[(pbp_df.half_seconds_remaining <= 120)]\n",
    "    pbp_df = pbp_df.assign(Two_Min=pbp_df.unique_id.isin(two_min_df.unique_id).astype(int))\n",
    "    \n",
    "    #flag red zone plays\n",
    "    red_df = pbp_df[(pbp_df.yardline_100 <= 20)]\n",
    "    pbp_df = pbp_df.assign(Redzone=pbp_df.unique_id.isin(red_df.unique_id).astype(int))\n",
    "    \n",
    "    \n",
    "    # flag success rate using Football Outsider's varsity formula\n",
    "    # https://www.footballoutsiders.com/info/glossary\n",
    "    pbp_df['Per_Yards_Gained'] = pbp_df.yards_gained / pbp_df.ydstogo\n",
    "    \n",
    "    suc_fir_df = pbp_df[(pbp_df.down == 1) & (pbp_df.Per_Yards_Gained >= .5)]\n",
    "    suc_sec_df = pbp_df[(pbp_df.down == 2) & (pbp_df.Per_Yards_Gained >= .7)]\n",
    "    suc_thi_df = pbp_df[(pbp_df.down == 3) & (pbp_df.Per_Yards_Gained >= 1)]\n",
    "    suc_fou_df = pbp_df[(pbp_df.down == 4) & (pbp_df.Per_Yards_Gained >= 1)]\n",
    "    \n",
    "    suc_all_df = pd.concat([suc_fir_df, suc_sec_df, suc_thi_df, suc_fou_df], axis=0, ignore_index=True)\n",
    "    \n",
    "    pbp_df = pbp_df.assign(Success_Play=pbp_df.unique_id.isin(suc_all_df.unique_id).astype(int))\n",
    "    \n",
    "    \n",
    "    #prepare final dataframe\n",
    "    pbp_df = pbp_df.fillna(0)\n",
    "    \n",
    "    pbp_all = pbp_all.append(pbp_df[columns])"
   ]
  },
  {
   "cell_type": "markdown",
   "metadata": {},
   "source": [
    "### Combine All Data"
   ]
  },
  {
   "cell_type": "code",
   "execution_count": 10,
   "metadata": {},
   "outputs": [],
   "source": [
    "agg_cols = ['yards_gained', 'two_point_converted', 'two_point_failed', 'third_down_converted', 'third_down_failed',\n",
    "            'fourth_down_converted', 'fourth_down_failed', 'touchdown', 'Two_Min', 'Redzone', 'Success_Play', 'Total_Plays',\n",
    "            'Q1_Plays', 'Q2_Plays', 'Q3_Plays', 'Q4_Plays']\n",
    "\n",
    "pass_cols = ['interception', 'incomplete_pass', 'complete_pass', 'air_yards', 'pass_yards', 'pass_touchdown', \n",
    "             'Success_Pass', 'Passer_Plays'] + agg_cols\n",
    "\n",
    "rec_cols = ['yards_after_catch', 'receiving_yards', 'receiving_touchdown', 'Success_Receive', 'Receiver_Plays'] + agg_cols\n",
    "\n",
    "rush_cols = ['rush_yards', 'rush_touchdown', 'Success_Rush', 'Run_Plays'] + agg_cols\n",
    "\n",
    "pen_cols = ['penalty', 'penalty_yards']\n",
    "\n",
    "fumb_cols = ['fumble_lost', 'fumble']"
   ]
  },
  {
   "cell_type": "code",
   "execution_count": 11,
   "metadata": {},
   "outputs": [],
   "source": [
    "all_cols = pass_cols + rec_cols + rush_cols + pen_cols + fumb_cols\n",
    "all_cols = list(set(all_cols))\n",
    "all_cols = sorted(all_cols, key=str.lower)"
   ]
  },
  {
   "cell_type": "code",
   "execution_count": 12,
   "metadata": {},
   "outputs": [],
   "source": [
    "stats_df = pd.DataFrame(columns = all_cols)\n",
    "\n",
    "for ii in years:\n",
    "    year_df = pbp_all[(pbp_all.season == ii)].copy()\n",
    "    year_df['Total_Plays'] = 1\n",
    "    \n",
    "    #Add Plays in quarter    \n",
    "    q1_df = year_df[(year_df.qtr == 1)]\n",
    "    year_df = year_df.assign(Q1_Plays=year_df.unique_id.isin(q1_df.unique_id).astype(int))\n",
    "    \n",
    "    q2_df = year_df[(year_df.qtr == 2)]\n",
    "    year_df = year_df.assign(Q2_Plays=year_df.unique_id.isin(q2_df.unique_id).astype(int))\n",
    "    \n",
    "    q3_df = year_df[(year_df.qtr == 3)]\n",
    "    year_df = year_df.assign(Q3_Plays=year_df.unique_id.isin(q3_df.unique_id).astype(int))\n",
    "    \n",
    "    q4_df = year_df[(year_df.qtr == 4)]\n",
    "    year_df = year_df.assign(Q4_Plays=year_df.unique_id.isin(q4_df.unique_id).astype(int))\n",
    "    \n",
    "    #assemble passing stats\n",
    "    pass_df = year_df[(year_df.play_type == 'pass')]\n",
    "    pass_df = pass_df.infer_objects()  \n",
    "    pass_df['pass_yards'] = pass_df['yards_gained']\n",
    "    pass_df['pass_touchdown'] = pass_df['touchdown']\n",
    "    pass_df['Success_Pass'] = pass_df['Success_Play']\n",
    "    pass_df['Passer_Plays'] = 1\n",
    "    \n",
    "    pass_df = pass_df.groupby('passer_player_id').sum()    \n",
    "    pass_df = pass_df[pass_cols]\n",
    "    \n",
    "    pass_df.index.name = 'player_id'\n",
    "    \n",
    "    \n",
    "    #assemble receiving stats\n",
    "    rec_df = year_df[(year_df.play_type == 'pass')]\n",
    "    rec_df = rec_df.infer_objects()\n",
    "    rec_df['receiving_yards'] = rec_df['yards_gained']\n",
    "    rec_df['receiving_touchdown'] = rec_df['touchdown']\n",
    "    rec_df['Success_Receive'] = rec_df['Success_Play']\n",
    "    rec_df['Receiver_Plays'] = 1\n",
    "    \n",
    "    rec_df = rec_df.groupby('receiver_player_id').sum()    \n",
    "    rec_df = rec_df[rec_cols]\n",
    "    \n",
    "    rec_df.index.name = 'player_id'\n",
    "    rec_df = rec_df.drop(rec_df.index[0])\n",
    "    \n",
    "    \n",
    "    #assemble rushing stats\n",
    "    rush_df = year_df[(year_df.play_type == 'run')]\n",
    "    rush_df = rush_df.infer_objects()\n",
    "    rush_df['rush_yards'] = rush_df['yards_gained']\n",
    "    rush_df['rush_touchdown'] = rush_df['touchdown']\n",
    "    rush_df['Success_Rush'] = rush_df['Success_Play']\n",
    "    rush_df['Run_Plays'] = 1\n",
    "    \n",
    "    rush_df = rush_df.groupby('rusher_player_id').sum()    \n",
    "    rush_df = rush_df[rush_cols]\n",
    "    \n",
    "    rush_df.index.name = 'player_id'\n",
    "    \n",
    "    \n",
    "    #assemble penalty stats\n",
    "    pen_df = year_df[(year_df.penalty == 1)]\n",
    "    pen_df = pen_df.infer_objects()\n",
    "    \n",
    "    pen_df = pen_df.groupby('penalty_player_id').sum()    \n",
    "    pen_df = pen_df[pen_cols]\n",
    "    \n",
    "    pen_df.index.name = 'player_id'\n",
    "    pen_df = pen_df.drop(pen_df.index[0])\n",
    "    \n",
    "    \n",
    "    #assemble fumble stats\n",
    "    fumb_df = year_df[(year_df.fumble == 1)]\n",
    "    fumb_df = fumb_df.infer_objects()\n",
    "    \n",
    "    fumb_df = fumb_df.groupby('fumbled_1_player_id').sum()    \n",
    "    fumb_df = fumb_df[fumb_cols]\n",
    "    \n",
    "    fumb_df.index.name = 'player_id'\n",
    "    \n",
    "    \n",
    "    #combine stats\n",
    "    comb_df = pd.concat([pass_df, rec_df, rush_df, pen_df, fumb_df]).groupby(['player_id']).sum()\n",
    "    \n",
    "    \n",
    "    #join in player information\n",
    "    player_df = roster_all[(roster_all.season == ii)]\n",
    "    \n",
    "    player_df = player_df.set_index('gsis_id')\n",
    "    player_df.index.name = 'player_id'\n",
    "    \n",
    "    comb_df = comb_df.join(player_df)    \n",
    "    comb_df = comb_df.dropna(subset=['Made_Roster'])\n",
    "    \n",
    "    \n",
    "    #join all data into final dataframe\n",
    "    comb_df = comb_df.fillna(0)\n",
    "   \n",
    "    stats_df = stats_df.append(comb_df)"
   ]
  },
  {
   "cell_type": "code",
   "execution_count": 13,
   "metadata": {},
   "outputs": [],
   "source": [
    "#change the display formats on numbers for simplicity\n",
    "pd.options.display.float_format = '{:,.0f}'.format\n",
    "stats_df['season'] = pd.to_numeric(stats_df['season'], downcast='integer')"
   ]
  },
  {
   "cell_type": "code",
   "execution_count": 14,
   "metadata": {},
   "outputs": [
    {
     "name": "stdout",
     "output_type": "stream",
     "text": [
      "7292\n"
     ]
    },
    {
     "data": {
      "text/html": [
       "<div>\n",
       "<style scoped>\n",
       "    .dataframe tbody tr th:only-of-type {\n",
       "        vertical-align: middle;\n",
       "    }\n",
       "\n",
       "    .dataframe tbody tr th {\n",
       "        vertical-align: top;\n",
       "    }\n",
       "\n",
       "    .dataframe thead th {\n",
       "        text-align: right;\n",
       "    }\n",
       "</style>\n",
       "<table border=\"1\" class=\"dataframe\">\n",
       "  <thead>\n",
       "    <tr style=\"text-align: right;\">\n",
       "      <th></th>\n",
       "      <th>air_yards</th>\n",
       "      <th>complete_pass</th>\n",
       "      <th>fourth_down_converted</th>\n",
       "      <th>fourth_down_failed</th>\n",
       "      <th>fumble</th>\n",
       "      <th>fumble_lost</th>\n",
       "      <th>incomplete_pass</th>\n",
       "      <th>interception</th>\n",
       "      <th>pass_touchdown</th>\n",
       "      <th>pass_yards</th>\n",
       "      <th>...</th>\n",
       "      <th>two_point_converted</th>\n",
       "      <th>two_point_failed</th>\n",
       "      <th>yards_after_catch</th>\n",
       "      <th>yards_gained</th>\n",
       "      <th>season</th>\n",
       "      <th>full_player_name</th>\n",
       "      <th>abbr_player_name</th>\n",
       "      <th>team</th>\n",
       "      <th>position</th>\n",
       "      <th>Made_Roster</th>\n",
       "    </tr>\n",
       "  </thead>\n",
       "  <tbody>\n",
       "    <tr>\n",
       "      <th>00-0000865</th>\n",
       "      <td>99</td>\n",
       "      <td>7</td>\n",
       "      <td>0</td>\n",
       "      <td>0</td>\n",
       "      <td>0</td>\n",
       "      <td>0</td>\n",
       "      <td>2</td>\n",
       "      <td>1</td>\n",
       "      <td>2</td>\n",
       "      <td>64</td>\n",
       "      <td>...</td>\n",
       "      <td>0</td>\n",
       "      <td>0</td>\n",
       "      <td>0</td>\n",
       "      <td>64</td>\n",
       "      <td>2010</td>\n",
       "      <td>Charlie Batch</td>\n",
       "      <td>C.Batch</td>\n",
       "      <td>PIT</td>\n",
       "      <td>QB</td>\n",
       "      <td>1</td>\n",
       "    </tr>\n",
       "    <tr>\n",
       "      <th>00-0002110</th>\n",
       "      <td>264</td>\n",
       "      <td>16</td>\n",
       "      <td>0</td>\n",
       "      <td>0</td>\n",
       "      <td>1</td>\n",
       "      <td>1</td>\n",
       "      <td>14</td>\n",
       "      <td>0</td>\n",
       "      <td>2</td>\n",
       "      <td>118</td>\n",
       "      <td>...</td>\n",
       "      <td>0</td>\n",
       "      <td>0</td>\n",
       "      <td>0</td>\n",
       "      <td>118</td>\n",
       "      <td>2010</td>\n",
       "      <td>Mark Brunell</td>\n",
       "      <td>M.Brunell</td>\n",
       "      <td>NYJ</td>\n",
       "      <td>QB</td>\n",
       "      <td>1</td>\n",
       "    </tr>\n",
       "    <tr>\n",
       "      <th>00-0003035</th>\n",
       "      <td>0</td>\n",
       "      <td>0</td>\n",
       "      <td>0</td>\n",
       "      <td>0</td>\n",
       "      <td>0</td>\n",
       "      <td>0</td>\n",
       "      <td>0</td>\n",
       "      <td>0</td>\n",
       "      <td>0</td>\n",
       "      <td>0</td>\n",
       "      <td>...</td>\n",
       "      <td>0</td>\n",
       "      <td>0</td>\n",
       "      <td>5</td>\n",
       "      <td>25</td>\n",
       "      <td>2010</td>\n",
       "      <td>Desmond Clark</td>\n",
       "      <td>D.Clark</td>\n",
       "      <td>CHI</td>\n",
       "      <td>TE</td>\n",
       "      <td>1</td>\n",
       "    </tr>\n",
       "    <tr>\n",
       "      <th>00-0003292</th>\n",
       "      <td>305</td>\n",
       "      <td>20</td>\n",
       "      <td>0</td>\n",
       "      <td>0</td>\n",
       "      <td>0</td>\n",
       "      <td>0</td>\n",
       "      <td>15</td>\n",
       "      <td>1</td>\n",
       "      <td>1</td>\n",
       "      <td>249</td>\n",
       "      <td>...</td>\n",
       "      <td>0</td>\n",
       "      <td>0</td>\n",
       "      <td>0</td>\n",
       "      <td>249</td>\n",
       "      <td>2010</td>\n",
       "      <td>Kerry Collins</td>\n",
       "      <td>K.Collins</td>\n",
       "      <td>TEN</td>\n",
       "      <td>QB</td>\n",
       "      <td>1</td>\n",
       "    </tr>\n",
       "    <tr>\n",
       "      <th>00-0003315</th>\n",
       "      <td>55</td>\n",
       "      <td>10</td>\n",
       "      <td>0</td>\n",
       "      <td>1</td>\n",
       "      <td>0</td>\n",
       "      <td>0</td>\n",
       "      <td>5</td>\n",
       "      <td>0</td>\n",
       "      <td>1</td>\n",
       "      <td>132</td>\n",
       "      <td>...</td>\n",
       "      <td>0</td>\n",
       "      <td>0</td>\n",
       "      <td>0</td>\n",
       "      <td>132</td>\n",
       "      <td>2010</td>\n",
       "      <td>Todd Collins</td>\n",
       "      <td>T.Collins</td>\n",
       "      <td>CHI</td>\n",
       "      <td>QB</td>\n",
       "      <td>1</td>\n",
       "    </tr>\n",
       "  </tbody>\n",
       "</table>\n",
       "<p>5 rows × 43 columns</p>\n",
       "</div>"
      ],
      "text/plain": [
       "            air_yards  complete_pass  fourth_down_converted  \\\n",
       "00-0000865         99              7                      0   \n",
       "00-0002110        264             16                      0   \n",
       "00-0003035          0              0                      0   \n",
       "00-0003292        305             20                      0   \n",
       "00-0003315         55             10                      0   \n",
       "\n",
       "            fourth_down_failed  fumble  fumble_lost  incomplete_pass  \\\n",
       "00-0000865                   0       0            0                2   \n",
       "00-0002110                   0       1            1               14   \n",
       "00-0003035                   0       0            0                0   \n",
       "00-0003292                   0       0            0               15   \n",
       "00-0003315                   1       0            0                5   \n",
       "\n",
       "            interception  pass_touchdown  pass_yards  ...  \\\n",
       "00-0000865             1               2          64  ...   \n",
       "00-0002110             0               2         118  ...   \n",
       "00-0003035             0               0           0  ...   \n",
       "00-0003292             1               1         249  ...   \n",
       "00-0003315             0               1         132  ...   \n",
       "\n",
       "            two_point_converted  two_point_failed  yards_after_catch  \\\n",
       "00-0000865                    0                 0                  0   \n",
       "00-0002110                    0                 0                  0   \n",
       "00-0003035                    0                 0                  5   \n",
       "00-0003292                    0                 0                  0   \n",
       "00-0003315                    0                 0                  0   \n",
       "\n",
       "            yards_gained  season  full_player_name  abbr_player_name  team  \\\n",
       "00-0000865            64    2010     Charlie Batch           C.Batch   PIT   \n",
       "00-0002110           118    2010      Mark Brunell         M.Brunell   NYJ   \n",
       "00-0003035            25    2010     Desmond Clark           D.Clark   CHI   \n",
       "00-0003292           249    2010     Kerry Collins         K.Collins   TEN   \n",
       "00-0003315           132    2010      Todd Collins         T.Collins   CHI   \n",
       "\n",
       "            position  Made_Roster  \n",
       "00-0000865        QB            1  \n",
       "00-0002110        QB            1  \n",
       "00-0003035        TE            1  \n",
       "00-0003292        QB            1  \n",
       "00-0003315        QB            1  \n",
       "\n",
       "[5 rows x 43 columns]"
      ]
     },
     "execution_count": 14,
     "metadata": {},
     "output_type": "execute_result"
    }
   ],
   "source": [
    "print(len(stats_df))\n",
    "stats_df.head()"
   ]
  },
  {
   "cell_type": "markdown",
   "metadata": {},
   "source": [
    "## Visualizations"
   ]
  },
  {
   "cell_type": "code",
   "execution_count": 15,
   "metadata": {},
   "outputs": [
    {
     "data": {
      "text/plain": [
       "<matplotlib.axes._subplots.AxesSubplot at 0x228217b64a8>"
      ]
     },
     "execution_count": 15,
     "metadata": {},
     "output_type": "execute_result"
    },
    {
     "data": {
      "image/png": "[encoded data removed]",
      "text/plain": [
       "<Figure size 432x288 with 1 Axes>"
      ]
     },
     "metadata": {
      "needs_background": "light"
     },
     "output_type": "display_data"
    }
   ],
   "source": [
    "stats_df.groupby(['position', 'Made_Roster']).size().unstack().plot(kind='bar', stacked=True)"
   ]
  },
  {
   "cell_type": "code",
   "execution_count": 16,
   "metadata": {},
   "outputs": [
    {
     "data": {
      "text/plain": [
       "<matplotlib.axes._subplots.AxesSubplot at 0x228213be4e0>"
      ]
     },
     "execution_count": 16,
     "metadata": {},
     "output_type": "execute_result"
    },
    {
     "data": {
      "image/png": "[encoded data removed]",
      "text/plain": [
       "<Figure size 432x288 with 1 Axes>"
      ]
     },
     "metadata": {
      "needs_background": "light"
     },
     "output_type": "display_data"
    }
   ],
   "source": [
    "stats_df[stats_df['Made_Roster'] == 0].groupby(['season', 'position']).size().unstack().plot(kind='line')"
   ]
  },
  {
   "cell_type": "code",
   "execution_count": 17,
   "metadata": {},
   "outputs": [
    {
     "data": {
      "image/png": "[encoded data removed]",
      "text/plain": [
       "<Figure size 432x288 with 1 Axes>"
      ]
     },
     "metadata": {
      "needs_background": "light"
     },
     "output_type": "display_data"
    }
   ],
   "source": [
    "sns.countplot(x=\"season\", data=stats_df);"
   ]
  },
  {
   "cell_type": "code",
   "execution_count": 18,
   "metadata": {},
   "outputs": [
    {
     "data": {
      "image/png": "[encoded data removed]",
      "text/plain": [
       "<Figure size 432x288 with 1 Axes>"
      ]
     },
     "metadata": {
      "needs_background": "light"
     },
     "output_type": "display_data"
    }
   ],
   "source": [
    "sns.countplot(x=\"season\", data=stats_df[stats_df['Made_Roster'] == 1]);"
   ]
  },
  {
   "cell_type": "code",
   "execution_count": 19,
   "metadata": {},
   "outputs": [
    {
     "data": {
      "image/png": "[encoded data removed]",
      "text/plain": [
       "<Figure size 720x720 with 4 Axes>"
      ]
     },
     "metadata": {
      "needs_background": "light"
     },
     "output_type": "display_data"
    }
   ],
   "source": [
    "f = plt.figure(figsize=(10,10))\n",
    "\n",
    "quarters = [1, 2, 3, 4]\n",
    "for ii, jj in enumerate(quarters):\n",
    "    plt.subplot(2,2,ii+1).set_ylim(0, 6)\n",
    "    plt.title(\"Quarter \" + str(jj))\n",
    "    stats_df['Q' + str(jj) + '_Plays'].groupby(stats_df['Made_Roster']).mean().plot(kind='bar')\n",
    "    plt.ylabel('Average Plays During Quarter')\n",
    "    \n",
    "f.subplots_adjust(hspace = .3)"
   ]
  },
  {
   "cell_type": "code",
   "execution_count": 20,
   "metadata": {},
   "outputs": [
    {
     "data": {
      "image/png": "[encoded data removed]",
      "text/plain": [
       "<Figure size 720x288 with 3 Axes>"
      ]
     },
     "metadata": {
      "needs_background": "light"
     },
     "output_type": "display_data"
    }
   ],
   "source": [
    "f = plt.figure(figsize=(10,4))\n",
    "\n",
    "quarters = ['Passer', 'Receiver', 'Run']\n",
    "for ii, jj in enumerate(quarters):\n",
    "    plt.subplot(1,3,ii+1)\n",
    "    plt.title(str(jj) + ' Plays')\n",
    "    stats_df[str(jj) + '_Plays'].groupby(stats_df['Made_Roster']).mean().plot(kind='bar')"
   ]
  },
  {
   "cell_type": "code",
   "execution_count": null,
   "metadata": {},
   "outputs": [],
   "source": []
  }
 ],
 "metadata": {
  "kernelspec": {
   "display_name": "Python 3",
   "language": "python",
   "name": "python3"
  },
  "language_info": {
   "codemirror_mode": {
    "name": "ipython",
    "version": 3
   },
   "file_extension": ".py",
   "mimetype": "text/x-python",
   "name": "python",
   "nbconvert_exporter": "python",
   "pygments_lexer": "ipython3",
   "version": "3.7.3"
  },
  "toc": {
   "base_numbering": 1,
   "nav_menu": {},
   "number_sections": true,
   "sideBar": true,
   "skip_h1_title": false,
   "title_cell": "Table of Contents",
   "title_sidebar": "Contents",
   "toc_cell": false,
   "toc_position": {},
   "toc_section_display": true,
   "toc_window_display": false
  }
 },
 "nbformat": 4,
 "nbformat_minor": 2
}
