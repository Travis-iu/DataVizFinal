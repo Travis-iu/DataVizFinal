{
 "cells": [
  {
   "cell_type": "code",
   "execution_count": 229,
   "metadata": {},
   "outputs": [],
   "source": [
    "import numpy as np\n",
    "import pandas as pd \n",
    "import os\n",
    "import datetime\n",
    "import matplotlib.pyplot as plt\n",
    "import seaborn as sns\n",
    "\n",
    "from sklearn.preprocessing import OneHotEncoder\n",
    "from sklearn.linear_model import LogisticRegression\n",
    "from sklearn.tree import DecisionTreeClassifier\n",
    "from sklearn.feature_selection import SelectKBest, f_classif\n",
    "from statistics import mean\n",
    "\n",
    "import warnings\n",
    "warnings.filterwarnings('ignore')\n",
    "%matplotlib inline"
   ]
  },
  {
   "cell_type": "markdown",
   "metadata": {},
   "source": [
    "## Data Preparation"
   ]
  },
  {
   "cell_type": "code",
   "execution_count": 22,
   "metadata": {},
   "outputs": [],
   "source": [
    "def load_data(in_path, name):\n",
    "    df = pd.read_csv(in_path, low_memory=False)\n",
    "    #print(f\"{name}: shape is {df.shape}\")\n",
    "    #print(df.info())\n",
    "    #display(df.head(5))\n",
    "    return df"
   ]
  },
  {
   "cell_type": "markdown",
   "metadata": {},
   "source": [
    "### Load Roster Data"
   ]
  },
  {
   "cell_type": "code",
   "execution_count": 23,
   "metadata": {},
   "outputs": [],
   "source": [
    "DATA_DIR = \"C:/Users/Owner/Documents/Class/DataViz/Final/data/rosters\"\n",
    "datasets={}"
   ]
  },
  {
   "cell_type": "code",
   "execution_count": 24,
   "metadata": {},
   "outputs": [],
   "source": [
    "pre_roster_2009 = load_data(os.path.join(DATA_DIR, f'pre_roster_2009.csv'), 'pre_roster_2009')\n",
    "pre_roster_2009['Made_Roster'] = 0\n",
    "\n",
    "reg_roster_2009 = load_data(os.path.join(DATA_DIR, f'reg_roster_2009.csv'), 'reg_roster_2009')\n",
    "reg_roster_2009['Made_Roster'] = 1\n",
    "\n",
    "roster_2009 = reg_roster_2009.append(pre_roster_2009)"
   ]
  },
  {
   "cell_type": "code",
   "execution_count": 25,
   "metadata": {},
   "outputs": [],
   "source": [
    "years = [2010, 2011, 2012, 2013, 2014, 2015, 2016, 2017, 2018, 2019]"
   ]
  },
  {
   "cell_type": "code",
   "execution_count": 26,
   "metadata": {},
   "outputs": [],
   "source": [
    "roster_all = roster_2009.copy()\n",
    "\n",
    "for ii in years:\n",
    "    pre_name = 'pre_roster_' + str(ii)\n",
    "    pre_df = load_data(os.path.join(DATA_DIR, f'{pre_name}.csv'), pre_name)\n",
    "    #print(pre_df.shape)\n",
    "    \n",
    "    reg_name = 'reg_roster_' + str(ii)\n",
    "    reg_df = load_data(os.path.join(DATA_DIR, f'{reg_name}.csv'), reg_name)\n",
    "    \n",
    "    roster_df = pre_df.assign(Made_Roster=pre_df.gsis_id.isin(reg_df.gsis_id).astype(int))\n",
    "    \n",
    "    roster_all = roster_all.append(roster_df)\n",
    "    #print(roster_all.shape)\n",
    "    \n",
    "roster_all = roster_all.drop(['season_type'], axis=1)"
   ]
  },
  {
   "cell_type": "markdown",
   "metadata": {},
   "source": [
    "### Transform Play-By-Play Data"
   ]
  },
  {
   "cell_type": "code",
   "execution_count": 27,
   "metadata": {},
   "outputs": [],
   "source": [
    "years.append(2009)\n",
    "\n",
    "DATA_DIR = \"C:/Users/Owner/Documents/Class/DataViz/Final/data/pbp\""
   ]
  },
  {
   "cell_type": "code",
   "execution_count": 28,
   "metadata": {},
   "outputs": [],
   "source": [
    "columns = ['game_id', 'yardline_100', 'half_seconds_remaining', 'game_seconds_remaining', 'game_half', 'drive', 'qtr', 'down', \n",
    "           'goal_to_go', 'ydstogo', 'ydsnet', 'play_type', 'yards_gained','air_yards', 'yards_after_catch', \n",
    "           'two_point_converted', 'two_point_failed', 'third_down_converted', 'third_down_failed',\n",
    "           'fourth_down_converted', 'fourth_down_failed', 'incomplete_pass', 'interception', 'penalty', 'fumble_lost',\n",
    "           'touchdown', 'fumble', 'complete_pass', 'passer_player_id', 'receiver_player_id', 'rusher_player_id',\n",
    "           'fumbled_1_player_id', 'penalty_player_id', 'penalty_yards',\n",
    "           'unique_id', 'season', 'Two_Min', 'Redzone', 'Per_Yards_Gained', 'Success_Play']"
   ]
  },
  {
   "cell_type": "code",
   "execution_count": 29,
   "metadata": {},
   "outputs": [],
   "source": [
    "pbp_all = pd.DataFrame(columns = columns)\n",
    "\n",
    "for ii in years:\n",
    "    pbp_name = 'pre_pbp_' + str(ii)\n",
    "    pbp_df = load_data(os.path.join(DATA_DIR, f'{pbp_name}.csv'), pbp_name)\n",
    "    \n",
    "    #get unique ID for each play\n",
    "    pbp_df['unique_id'] = pbp_df['play_id'].astype(str) + pbp_df['game_id'].astype(str)\n",
    "    \n",
    "    #add year of game\n",
    "    pbp_df['season'] = ii\n",
    "    \n",
    "    #keep plays we are concerned with\n",
    "    pbp_df = pbp_df[(pbp_df.play_type == 'pass') | (pbp_df.play_type == 'run')]\n",
    "    \n",
    "    #encode two point conversions\n",
    "    two_conv_df = pbp_df[(pbp_df.two_point_conv_result == 'success')]\n",
    "    pbp_df = pbp_df.assign(two_point_converted=pbp_df.unique_id.isin(two_conv_df.unique_id).astype(int))\n",
    "    \n",
    "    two_fail_df = pbp_df[(pbp_df.two_point_conv_result == 'failure')]\n",
    "    pbp_df = pbp_df.assign(two_point_failed=pbp_df.unique_id.isin(two_fail_df.unique_id).astype(int))\n",
    "    \n",
    "    #flag plays in last two mins of a half\n",
    "    two_min_df = pbp_df[(pbp_df.half_seconds_remaining <= 120)]\n",
    "    pbp_df = pbp_df.assign(Two_Min=pbp_df.unique_id.isin(two_min_df.unique_id).astype(int))\n",
    "    \n",
    "    #flag red zone plays\n",
    "    red_df = pbp_df[(pbp_df.yardline_100 <= 20)]\n",
    "    pbp_df = pbp_df.assign(Redzone=pbp_df.unique_id.isin(red_df.unique_id).astype(int))\n",
    "    \n",
    "    \n",
    "    # flag success rate using Football Outsider's varsity formula\n",
    "    # https://www.footballoutsiders.com/info/glossary\n",
    "    pbp_df['Per_Yards_Gained'] = pbp_df.yards_gained / pbp_df.ydstogo\n",
    "    \n",
    "    suc_fir_df = pbp_df[(pbp_df.down == 1) & (pbp_df.Per_Yards_Gained >= .5)]\n",
    "    suc_sec_df = pbp_df[(pbp_df.down == 2) & (pbp_df.Per_Yards_Gained >= .7)]\n",
    "    suc_thi_df = pbp_df[(pbp_df.down == 3) & (pbp_df.Per_Yards_Gained >= 1)]\n",
    "    suc_fou_df = pbp_df[(pbp_df.down == 4) & (pbp_df.Per_Yards_Gained >= 1)]\n",
    "    \n",
    "    suc_all_df = pd.concat([suc_fir_df, suc_sec_df, suc_thi_df, suc_fou_df], axis=0, ignore_index=True)\n",
    "    \n",
    "    pbp_df = pbp_df.assign(Success_Play=pbp_df.unique_id.isin(suc_all_df.unique_id).astype(int))\n",
    "    \n",
    "    \n",
    "    #prepare final dataframe\n",
    "    pbp_df = pbp_df.fillna(0)\n",
    "    \n",
    "    pbp_all = pbp_all.append(pbp_df[columns])"
   ]
  },
  {
   "cell_type": "markdown",
   "metadata": {},
   "source": [
    "### Combine All Data"
   ]
  },
  {
   "cell_type": "code",
   "execution_count": 30,
   "metadata": {},
   "outputs": [],
   "source": [
    "agg_cols = ['yards_gained', 'two_point_converted', 'two_point_failed', 'third_down_converted', 'third_down_failed',\n",
    "            'fourth_down_converted', 'fourth_down_failed', 'touchdown', 'Two_Min', 'Redzone', 'Success_Play', 'Total_Plays',\n",
    "            'Q1_Plays', 'Q2_Plays', 'Q3_Plays', 'Q4_Plays']\n",
    "\n",
    "pass_cols = ['interception', 'incomplete_pass', 'complete_pass', 'air_yards', 'pass_yards', 'pass_touchdown', \n",
    "             'Success_Pass', 'Passer_Plays'] + agg_cols\n",
    "\n",
    "rec_cols = ['yards_after_catch', 'receiving_yards', 'receiving_touchdown', 'Success_Receive', 'Receiver_Plays'] + agg_cols\n",
    "\n",
    "rush_cols = ['rush_yards', 'rush_touchdown', 'Success_Rush', 'Run_Plays'] + agg_cols\n",
    "\n",
    "pen_cols = ['penalty', 'penalty_yards']\n",
    "\n",
    "fumb_cols = ['fumble_lost', 'fumble']"
   ]
  },
  {
   "cell_type": "code",
   "execution_count": 31,
   "metadata": {},
   "outputs": [],
   "source": [
    "all_cols = pass_cols + rec_cols + rush_cols + pen_cols + fumb_cols\n",
    "all_cols = list(set(all_cols))\n",
    "all_cols = sorted(all_cols, key=str.lower)"
   ]
  },
  {
   "cell_type": "code",
   "execution_count": 32,
   "metadata": {},
   "outputs": [],
   "source": [
    "stats_df = pd.DataFrame(columns = all_cols)\n",
    "\n",
    "for ii in years:\n",
    "    year_df = pbp_all[(pbp_all.season == ii)].copy()\n",
    "    year_df['Total_Plays'] = 1\n",
    "    \n",
    "    #Add Plays in quarter    \n",
    "    q1_df = year_df[(year_df.qtr == 1)]\n",
    "    year_df = year_df.assign(Q1_Plays=year_df.unique_id.isin(q1_df.unique_id).astype(int))\n",
    "    \n",
    "    q2_df = year_df[(year_df.qtr == 2)]\n",
    "    year_df = year_df.assign(Q2_Plays=year_df.unique_id.isin(q2_df.unique_id).astype(int))\n",
    "    \n",
    "    q3_df = year_df[(year_df.qtr == 3)]\n",
    "    year_df = year_df.assign(Q3_Plays=year_df.unique_id.isin(q3_df.unique_id).astype(int))\n",
    "    \n",
    "    q4_df = year_df[(year_df.qtr == 4)]\n",
    "    year_df = year_df.assign(Q4_Plays=year_df.unique_id.isin(q4_df.unique_id).astype(int))\n",
    "    \n",
    "    #assemble passing stats\n",
    "    pass_df = year_df[(year_df.play_type == 'pass')]\n",
    "    pass_df = pass_df.infer_objects()  \n",
    "    pass_df['pass_yards'] = pass_df['yards_gained']\n",
    "    pass_df['pass_touchdown'] = pass_df['touchdown']\n",
    "    pass_df['Success_Pass'] = pass_df['Success_Play']\n",
    "    pass_df['Passer_Plays'] = 1\n",
    "    \n",
    "    pass_df = pass_df.groupby('passer_player_id').sum()    \n",
    "    pass_df = pass_df[pass_cols]\n",
    "    \n",
    "    pass_df.index.name = 'player_id'\n",
    "    \n",
    "    \n",
    "    #assemble receiving stats\n",
    "    rec_df = year_df[(year_df.play_type == 'pass')]\n",
    "    rec_df = rec_df.infer_objects()\n",
    "    rec_df['receiving_yards'] = rec_df['yards_gained']\n",
    "    rec_df['receiving_touchdown'] = rec_df['touchdown']\n",
    "    rec_df['Success_Receive'] = rec_df['Success_Play']\n",
    "    rec_df['Receiver_Plays'] = 1\n",
    "    \n",
    "    rec_df = rec_df.groupby('receiver_player_id').sum()    \n",
    "    rec_df = rec_df[rec_cols]\n",
    "    \n",
    "    rec_df.index.name = 'player_id'\n",
    "    rec_df = rec_df.drop(rec_df.index[0])\n",
    "    \n",
    "    \n",
    "    #assemble rushing stats\n",
    "    rush_df = year_df[(year_df.play_type == 'run')]\n",
    "    rush_df = rush_df.infer_objects()\n",
    "    rush_df['rush_yards'] = rush_df['yards_gained']\n",
    "    rush_df['rush_touchdown'] = rush_df['touchdown']\n",
    "    rush_df['Success_Rush'] = rush_df['Success_Play']\n",
    "    rush_df['Run_Plays'] = 1\n",
    "    \n",
    "    rush_df = rush_df.groupby('rusher_player_id').sum()    \n",
    "    rush_df = rush_df[rush_cols]\n",
    "    \n",
    "    rush_df.index.name = 'player_id'\n",
    "    \n",
    "    \n",
    "    #assemble penalty stats\n",
    "    pen_df = year_df[(year_df.penalty == 1)]\n",
    "    pen_df = pen_df.infer_objects()\n",
    "    \n",
    "    pen_df = pen_df.groupby('penalty_player_id').sum()    \n",
    "    pen_df = pen_df[pen_cols]\n",
    "    \n",
    "    pen_df.index.name = 'player_id'\n",
    "    pen_df = pen_df.drop(pen_df.index[0])\n",
    "    \n",
    "    \n",
    "    #assemble fumble stats\n",
    "    fumb_df = year_df[(year_df.fumble == 1)]\n",
    "    fumb_df = fumb_df.infer_objects()\n",
    "    \n",
    "    fumb_df = fumb_df.groupby('fumbled_1_player_id').sum()    \n",
    "    fumb_df = fumb_df[fumb_cols]\n",
    "    \n",
    "    fumb_df.index.name = 'player_id'\n",
    "    \n",
    "    \n",
    "    #combine stats\n",
    "    comb_df = pd.concat([pass_df, rec_df, rush_df, pen_df, fumb_df]).groupby(['player_id']).sum()\n",
    "    \n",
    "    \n",
    "    #join in player information\n",
    "    player_df = roster_all[(roster_all.season == ii)]\n",
    "    \n",
    "    player_df = player_df.set_index('gsis_id')\n",
    "    player_df.index.name = 'player_id'\n",
    "    \n",
    "    comb_df = comb_df.join(player_df)    \n",
    "    comb_df = comb_df.dropna(subset=['Made_Roster'])\n",
    "    \n",
    "    \n",
    "    #join all data into final dataframe\n",
    "    comb_df = comb_df.fillna(0)\n",
    "   \n",
    "    stats_df = stats_df.append(comb_df)"
   ]
  },
  {
   "cell_type": "code",
   "execution_count": 33,
   "metadata": {},
   "outputs": [],
   "source": [
    "#change the display formats on numbers for simplicity\n",
    "pd.options.display.float_format = '{:,.0f}'.format\n",
    "stats_df['season'] = pd.to_numeric(stats_df['season'], downcast='integer')"
   ]
  },
  {
   "cell_type": "code",
   "execution_count": 34,
   "metadata": {},
   "outputs": [
    {
     "name": "stdout",
     "output_type": "stream",
     "text": [
      "7292\n"
     ]
    },
    {
     "data": {
      "text/html": [
       "<div>\n",
       "<style scoped>\n",
       "    .dataframe tbody tr th:only-of-type {\n",
       "        vertical-align: middle;\n",
       "    }\n",
       "\n",
       "    .dataframe tbody tr th {\n",
       "        vertical-align: top;\n",
       "    }\n",
       "\n",
       "    .dataframe thead th {\n",
       "        text-align: right;\n",
       "    }\n",
       "</style>\n",
       "<table border=\"1\" class=\"dataframe\">\n",
       "  <thead>\n",
       "    <tr style=\"text-align: right;\">\n",
       "      <th></th>\n",
       "      <th>air_yards</th>\n",
       "      <th>complete_pass</th>\n",
       "      <th>fourth_down_converted</th>\n",
       "      <th>fourth_down_failed</th>\n",
       "      <th>fumble</th>\n",
       "      <th>fumble_lost</th>\n",
       "      <th>incomplete_pass</th>\n",
       "      <th>interception</th>\n",
       "      <th>pass_touchdown</th>\n",
       "      <th>pass_yards</th>\n",
       "      <th>...</th>\n",
       "      <th>two_point_converted</th>\n",
       "      <th>two_point_failed</th>\n",
       "      <th>yards_after_catch</th>\n",
       "      <th>yards_gained</th>\n",
       "      <th>season</th>\n",
       "      <th>full_player_name</th>\n",
       "      <th>abbr_player_name</th>\n",
       "      <th>team</th>\n",
       "      <th>position</th>\n",
       "      <th>Made_Roster</th>\n",
       "    </tr>\n",
       "  </thead>\n",
       "  <tbody>\n",
       "    <tr>\n",
       "      <th>00-0000865</th>\n",
       "      <td>99</td>\n",
       "      <td>7</td>\n",
       "      <td>0</td>\n",
       "      <td>0</td>\n",
       "      <td>0</td>\n",
       "      <td>0</td>\n",
       "      <td>2</td>\n",
       "      <td>1</td>\n",
       "      <td>2</td>\n",
       "      <td>64</td>\n",
       "      <td>...</td>\n",
       "      <td>0</td>\n",
       "      <td>0</td>\n",
       "      <td>0</td>\n",
       "      <td>64</td>\n",
       "      <td>2010</td>\n",
       "      <td>Charlie Batch</td>\n",
       "      <td>C.Batch</td>\n",
       "      <td>PIT</td>\n",
       "      <td>QB</td>\n",
       "      <td>1</td>\n",
       "    </tr>\n",
       "    <tr>\n",
       "      <th>00-0002110</th>\n",
       "      <td>264</td>\n",
       "      <td>16</td>\n",
       "      <td>0</td>\n",
       "      <td>0</td>\n",
       "      <td>1</td>\n",
       "      <td>1</td>\n",
       "      <td>14</td>\n",
       "      <td>0</td>\n",
       "      <td>2</td>\n",
       "      <td>118</td>\n",
       "      <td>...</td>\n",
       "      <td>0</td>\n",
       "      <td>0</td>\n",
       "      <td>0</td>\n",
       "      <td>118</td>\n",
       "      <td>2010</td>\n",
       "      <td>Mark Brunell</td>\n",
       "      <td>M.Brunell</td>\n",
       "      <td>NYJ</td>\n",
       "      <td>QB</td>\n",
       "      <td>1</td>\n",
       "    </tr>\n",
       "    <tr>\n",
       "      <th>00-0003035</th>\n",
       "      <td>0</td>\n",
       "      <td>0</td>\n",
       "      <td>0</td>\n",
       "      <td>0</td>\n",
       "      <td>0</td>\n",
       "      <td>0</td>\n",
       "      <td>0</td>\n",
       "      <td>0</td>\n",
       "      <td>0</td>\n",
       "      <td>0</td>\n",
       "      <td>...</td>\n",
       "      <td>0</td>\n",
       "      <td>0</td>\n",
       "      <td>5</td>\n",
       "      <td>25</td>\n",
       "      <td>2010</td>\n",
       "      <td>Desmond Clark</td>\n",
       "      <td>D.Clark</td>\n",
       "      <td>CHI</td>\n",
       "      <td>TE</td>\n",
       "      <td>1</td>\n",
       "    </tr>\n",
       "    <tr>\n",
       "      <th>00-0003292</th>\n",
       "      <td>305</td>\n",
       "      <td>20</td>\n",
       "      <td>0</td>\n",
       "      <td>0</td>\n",
       "      <td>0</td>\n",
       "      <td>0</td>\n",
       "      <td>15</td>\n",
       "      <td>1</td>\n",
       "      <td>1</td>\n",
       "      <td>249</td>\n",
       "      <td>...</td>\n",
       "      <td>0</td>\n",
       "      <td>0</td>\n",
       "      <td>0</td>\n",
       "      <td>249</td>\n",
       "      <td>2010</td>\n",
       "      <td>Kerry Collins</td>\n",
       "      <td>K.Collins</td>\n",
       "      <td>TEN</td>\n",
       "      <td>QB</td>\n",
       "      <td>1</td>\n",
       "    </tr>\n",
       "    <tr>\n",
       "      <th>00-0003315</th>\n",
       "      <td>55</td>\n",
       "      <td>10</td>\n",
       "      <td>0</td>\n",
       "      <td>1</td>\n",
       "      <td>0</td>\n",
       "      <td>0</td>\n",
       "      <td>5</td>\n",
       "      <td>0</td>\n",
       "      <td>1</td>\n",
       "      <td>132</td>\n",
       "      <td>...</td>\n",
       "      <td>0</td>\n",
       "      <td>0</td>\n",
       "      <td>0</td>\n",
       "      <td>132</td>\n",
       "      <td>2010</td>\n",
       "      <td>Todd Collins</td>\n",
       "      <td>T.Collins</td>\n",
       "      <td>CHI</td>\n",
       "      <td>QB</td>\n",
       "      <td>1</td>\n",
       "    </tr>\n",
       "  </tbody>\n",
       "</table>\n",
       "<p>5 rows × 43 columns</p>\n",
       "</div>"
      ],
      "text/plain": [
       "            air_yards  complete_pass  fourth_down_converted  \\\n",
       "00-0000865         99              7                      0   \n",
       "00-0002110        264             16                      0   \n",
       "00-0003035          0              0                      0   \n",
       "00-0003292        305             20                      0   \n",
       "00-0003315         55             10                      0   \n",
       "\n",
       "            fourth_down_failed  fumble  fumble_lost  incomplete_pass  \\\n",
       "00-0000865                   0       0            0                2   \n",
       "00-0002110                   0       1            1               14   \n",
       "00-0003035                   0       0            0                0   \n",
       "00-0003292                   0       0            0               15   \n",
       "00-0003315                   1       0            0                5   \n",
       "\n",
       "            interception  pass_touchdown  pass_yards  ...  \\\n",
       "00-0000865             1               2          64  ...   \n",
       "00-0002110             0               2         118  ...   \n",
       "00-0003035             0               0           0  ...   \n",
       "00-0003292             1               1         249  ...   \n",
       "00-0003315             0               1         132  ...   \n",
       "\n",
       "            two_point_converted  two_point_failed  yards_after_catch  \\\n",
       "00-0000865                    0                 0                  0   \n",
       "00-0002110                    0                 0                  0   \n",
       "00-0003035                    0                 0                  5   \n",
       "00-0003292                    0                 0                  0   \n",
       "00-0003315                    0                 0                  0   \n",
       "\n",
       "            yards_gained  season  full_player_name  abbr_player_name  team  \\\n",
       "00-0000865            64    2010     Charlie Batch           C.Batch   PIT   \n",
       "00-0002110           118    2010      Mark Brunell         M.Brunell   NYJ   \n",
       "00-0003035            25    2010     Desmond Clark           D.Clark   CHI   \n",
       "00-0003292           249    2010     Kerry Collins         K.Collins   TEN   \n",
       "00-0003315           132    2010      Todd Collins         T.Collins   CHI   \n",
       "\n",
       "            position  Made_Roster  \n",
       "00-0000865        QB            1  \n",
       "00-0002110        QB            1  \n",
       "00-0003035        TE            1  \n",
       "00-0003292        QB            1  \n",
       "00-0003315        QB            1  \n",
       "\n",
       "[5 rows x 43 columns]"
      ]
     },
     "execution_count": 34,
     "metadata": {},
     "output_type": "execute_result"
    }
   ],
   "source": [
    "print(len(stats_df))\n",
    "stats_df.head()"
   ]
  },
  {
   "cell_type": "markdown",
   "metadata": {},
   "source": [
    "## Visualizations"
   ]
  },
  {
   "cell_type": "code",
   "execution_count": 35,
   "metadata": {},
   "outputs": [
    {
     "data": {
      "text/plain": [
       "<matplotlib.axes._subplots.AxesSubplot at 0x1733ed13b70>"
      ]
     },
     "execution_count": 35,
     "metadata": {},
     "output_type": "execute_result"
    },
    {
     "data": {
      "image/png": "[encoded data removed]",
      "text/plain": [
       "<Figure size 432x288 with 1 Axes>"
      ]
     },
     "metadata": {
      "needs_background": "light"
     },
     "output_type": "display_data"
    }
   ],
   "source": [
    "stats_df.groupby(['position', 'Made_Roster']).size().unstack().plot(kind='bar', stacked=True)"
   ]
  },
  {
   "cell_type": "code",
   "execution_count": 36,
   "metadata": {},
   "outputs": [
    {
     "data": {
      "text/plain": [
       "<matplotlib.axes._subplots.AxesSubplot at 0x1733ae076a0>"
      ]
     },
     "execution_count": 36,
     "metadata": {},
     "output_type": "execute_result"
    },
    {
     "data": {
      "image/png": "[encoded data removed]",
      "text/plain": [
       "<Figure size 432x288 with 1 Axes>"
      ]
     },
     "metadata": {
      "needs_background": "light"
     },
     "output_type": "display_data"
    }
   ],
   "source": [
    "stats_df[stats_df['Made_Roster'] == 0].groupby(['season', 'position']).size().unstack().plot(kind='line')"
   ]
  },
  {
   "cell_type": "code",
   "execution_count": 37,
   "metadata": {},
   "outputs": [
    {
     "data": {
      "image/png": "[encoded data removed]",
      "text/plain": [
       "<Figure size 432x288 with 1 Axes>"
      ]
     },
     "metadata": {
      "needs_background": "light"
     },
     "output_type": "display_data"
    }
   ],
   "source": [
    "sns.countplot(x=\"season\", data=stats_df);"
   ]
  },
  {
   "cell_type": "code",
   "execution_count": 38,
   "metadata": {},
   "outputs": [
    {
     "data": {
      "image/png": "[encoded data removed]",
      "text/plain": [
       "<Figure size 432x288 with 1 Axes>"
      ]
     },
     "metadata": {
      "needs_background": "light"
     },
     "output_type": "display_data"
    }
   ],
   "source": [
    "sns.countplot(x=\"season\", data=stats_df[stats_df['Made_Roster'] == 1]);"
   ]
  },
  {
   "cell_type": "code",
   "execution_count": 39,
   "metadata": {},
   "outputs": [
    {
     "data": {
      "image/png": "[encoded data removed]",
      "text/plain": [
       "<Figure size 720x720 with 4 Axes>"
      ]
     },
     "metadata": {
      "needs_background": "light"
     },
     "output_type": "display_data"
    }
   ],
   "source": [
    "f = plt.figure(figsize=(10,10))\n",
    "\n",
    "quarters = [1, 2, 3, 4]\n",
    "for ii, jj in enumerate(quarters):\n",
    "    plt.subplot(2,2,ii+1).set_ylim(0, 6)\n",
    "    plt.title(\"Quarter \" + str(jj))\n",
    "    stats_df['Q' + str(jj) + '_Plays'].groupby(stats_df['Made_Roster']).mean().plot(kind='bar')\n",
    "    plt.ylabel('Average Plays During Quarter')\n",
    "    \n",
    "f.subplots_adjust(hspace = .3)"
   ]
  },
  {
   "cell_type": "code",
   "execution_count": 225,
   "metadata": {},
   "outputs": [
    {
     "data": {
      "image/png": "[encoded data removed]",
      "text/plain": [
       "<Figure size 720x720 with 4 Axes>"
      ]
     },
     "metadata": {
      "needs_background": "light"
     },
     "output_type": "display_data"
    }
   ],
   "source": [
    "f = plt.figure(figsize=(10,10))\n",
    "\n",
    "quarters = ['Total', 'Passer', 'Receiver', 'Run']\n",
    "for ii, jj in enumerate(quarters):\n",
    "    plt.subplot(2,2,ii+1)\n",
    "    plt.title(str(jj) + ' Plays')\n",
    "    stats_df[str(jj) + '_Plays'].groupby(stats_df['Made_Roster']).mean().plot(kind='bar')\n",
    "    \n",
    "f.subplots_adjust(hspace = .3)"
   ]
  },
  {
   "cell_type": "code",
   "execution_count": 219,
   "metadata": {},
   "outputs": [
    {
     "data": {
      "text/plain": [
       "<matplotlib.axes._subplots.AxesSubplot at 0x1733f5208d0>"
      ]
     },
     "execution_count": 219,
     "metadata": {},
     "output_type": "execute_result"
    },
    {
     "data": {
      "image/png": "[encoded data removed]",
      "text/plain": [
       "<Figure size 432x288 with 1 Axes>"
      ]
     },
     "metadata": {
      "needs_background": "light"
     },
     "output_type": "display_data"
    }
   ],
   "source": [
    "stats_df['touchdown'].groupby(stats_df['Made_Roster']).mean().plot(kind='bar')"
   ]
  },
  {
   "cell_type": "markdown",
   "metadata": {},
   "source": [
    "## Prediction Model"
   ]
  },
  {
   "cell_type": "markdown",
   "metadata": {},
   "source": [
    "### Prepare Data"
   ]
  },
  {
   "cell_type": "code",
   "execution_count": 98,
   "metadata": {},
   "outputs": [],
   "source": [
    "X = stats_df.copy()\n",
    "y = stats_df[['Made_Roster','season']]\n",
    "\n",
    "ohe_df = pd.get_dummies(X.position)\n",
    "X = pd.concat([X, ohe_df], axis=1).drop(columns=['Made_Roster',\n",
    "                                                      'full_player_name', 'abbr_player_name', 'team', 'position'])"
   ]
  },
  {
   "cell_type": "code",
   "execution_count": 99,
   "metadata": {},
   "outputs": [],
   "source": [
    "X_train = X[(X.season <= 2016)].drop(columns=['season'])\n",
    "X_test = X[(X.season == 2017) | (X.season == 2018)].drop(columns=['season'])\n",
    "\n",
    "y_train = y[(y.season <= 2016)].drop(columns=['season'])\n",
    "y_test = y[(y.season == 2017) | (y.season == 2018)].drop(columns=['season'])\n",
    "\n",
    "X = X.drop(columns=['season'])\n",
    "y = y.drop(columns=['season'])\n",
    "\n",
    "feature_names = list(X)"
   ]
  },
  {
   "cell_type": "markdown",
   "metadata": {},
   "source": [
    "### Logistic Regression"
   ]
  },
  {
   "cell_type": "code",
   "execution_count": 243,
   "metadata": {},
   "outputs": [
    {
     "name": "stdout",
     "output_type": "stream",
     "text": [
      "0.7459421312632322\n"
     ]
    }
   ],
   "source": [
    "logreg = LogisticRegression(solver='saga')\n",
    "logreg.fit(X_train, y_train)\n",
    "\n",
    "print(logreg.score(X_test, y_test))"
   ]
  },
  {
   "cell_type": "code",
   "execution_count": 231,
   "metadata": {},
   "outputs": [
    {
     "data": {
      "text/plain": [
       "SelectKBest(k='all', score_func=<function f_classif at 0x000001733E173598>)"
      ]
     },
     "execution_count": 231,
     "metadata": {},
     "output_type": "execute_result"
    }
   ],
   "source": [
    "model_ftest = SelectKBest(score_func=f_classif, k='all')\n",
    "model_ftest.fit(X_train, y_train)"
   ]
  },
  {
   "cell_type": "code",
   "execution_count": 232,
   "metadata": {},
   "outputs": [],
   "source": [
    "ftest_scores = model_ftest.scores_\n",
    "ftest_pvalues = model_ftest.pvalues_"
   ]
  },
  {
   "cell_type": "code",
   "execution_count": 233,
   "metadata": {},
   "outputs": [
    {
     "data": {
      "text/html": [
       "<div>\n",
       "<style scoped>\n",
       "    .dataframe tbody tr th:only-of-type {\n",
       "        vertical-align: middle;\n",
       "    }\n",
       "\n",
       "    .dataframe tbody tr th {\n",
       "        vertical-align: top;\n",
       "    }\n",
       "\n",
       "    .dataframe thead th {\n",
       "        text-align: right;\n",
       "    }\n",
       "</style>\n",
       "<table border=\"1\" class=\"dataframe\">\n",
       "  <thead>\n",
       "    <tr style=\"text-align: right;\">\n",
       "      <th></th>\n",
       "      <th>feature</th>\n",
       "      <th>f value</th>\n",
       "      <th>p-value</th>\n",
       "    </tr>\n",
       "  </thead>\n",
       "  <tbody>\n",
       "    <tr>\n",
       "      <th>13</th>\n",
       "      <td>Q1_Plays</td>\n",
       "      <td>709</td>\n",
       "      <td>0</td>\n",
       "    </tr>\n",
       "    <tr>\n",
       "      <th>14</th>\n",
       "      <td>Q2_Plays</td>\n",
       "      <td>384</td>\n",
       "      <td>0</td>\n",
       "    </tr>\n",
       "    <tr>\n",
       "      <th>16</th>\n",
       "      <td>Q4_Plays</td>\n",
       "      <td>247</td>\n",
       "      <td>0</td>\n",
       "    </tr>\n",
       "    <tr>\n",
       "      <th>19</th>\n",
       "      <td>receiving_yards</td>\n",
       "      <td>210</td>\n",
       "      <td>0</td>\n",
       "    </tr>\n",
       "    <tr>\n",
       "      <th>36</th>\n",
       "      <td>yards_gained</td>\n",
       "      <td>194</td>\n",
       "      <td>0</td>\n",
       "    </tr>\n",
       "    <tr>\n",
       "      <th>26</th>\n",
       "      <td>Success_Receive</td>\n",
       "      <td>193</td>\n",
       "      <td>0</td>\n",
       "    </tr>\n",
       "    <tr>\n",
       "      <th>25</th>\n",
       "      <td>Success_Play</td>\n",
       "      <td>175</td>\n",
       "      <td>0</td>\n",
       "    </tr>\n",
       "    <tr>\n",
       "      <th>35</th>\n",
       "      <td>yards_after_catch</td>\n",
       "      <td>175</td>\n",
       "      <td>0</td>\n",
       "    </tr>\n",
       "    <tr>\n",
       "      <th>17</th>\n",
       "      <td>Receiver_Plays</td>\n",
       "      <td>154</td>\n",
       "      <td>0</td>\n",
       "    </tr>\n",
       "    <tr>\n",
       "      <th>30</th>\n",
       "      <td>Total_Plays</td>\n",
       "      <td>106</td>\n",
       "      <td>0</td>\n",
       "    </tr>\n",
       "  </tbody>\n",
       "</table>\n",
       "</div>"
      ],
      "text/plain": [
       "              feature  f value  p-value\n",
       "13           Q1_Plays      709        0\n",
       "14           Q2_Plays      384        0\n",
       "16           Q4_Plays      247        0\n",
       "19    receiving_yards      210        0\n",
       "36       yards_gained      194        0\n",
       "26    Success_Receive      193        0\n",
       "25       Success_Play      175        0\n",
       "35  yards_after_catch      175        0\n",
       "17     Receiver_Plays      154        0\n",
       "30        Total_Plays      106        0"
      ]
     },
     "execution_count": 233,
     "metadata": {},
     "output_type": "execute_result"
    }
   ],
   "source": [
    "ftest_all = pd.DataFrame(list(zip(feature_names, ftest_scores, ftest_pvalues)), columns=['feature', 'f value', 'p-value'])\n",
    "ftest_all.sort_values('p-value').head(10)"
   ]
  },
  {
   "cell_type": "code",
   "execution_count": 234,
   "metadata": {},
   "outputs": [
    {
     "name": "stdout",
     "output_type": "stream",
     "text": [
      "31\n"
     ]
    },
    {
     "data": {
      "text/plain": [
       "<matplotlib.axes._subplots.AxesSubplot at 0x1733ef145f8>"
      ]
     },
     "execution_count": 234,
     "metadata": {},
     "output_type": "execute_result"
    },
    {
     "data": {
      "image/png": "[encoded data removed]",
      "text/plain": [
       "<Figure size 864x288 with 1 Axes>"
      ]
     },
     "metadata": {
      "needs_background": "light"
     },
     "output_type": "display_data"
    }
   ],
   "source": [
    "ftest_sig = ftest_all[ftest_all['p-value'] <= .05].sort_values('f value', ascending=False)\n",
    "print(len(ftest_sig))\n",
    "ftest_plot = ftest_sig.head(50)\n",
    "ftest_plot.plot.bar(x='feature', y='f value', title='f value of significant features (p<.05)', figsize=(12,4))"
   ]
  },
  {
   "cell_type": "code",
   "execution_count": 235,
   "metadata": {},
   "outputs": [],
   "source": [
    "f_model = SelectKBest(f_classif, k=31)\n",
    "X_train_f = f_model.fit_transform(X_train, y_train)\n",
    "\n",
    "logreg_f = LogisticRegression(solver='saga')\n",
    "logreg_f.fit(X_train_f, y_train)\n",
    "\n",
    "X_test_f = f_model.transform(X_test)"
   ]
  },
  {
   "cell_type": "code",
   "execution_count": 244,
   "metadata": {},
   "outputs": [
    {
     "name": "stdout",
     "output_type": "stream",
     "text": [
      "0.739590684544813\n"
     ]
    }
   ],
   "source": [
    "print(logreg_f.score(X_test_f, y_test))"
   ]
  },
  {
   "cell_type": "code",
   "execution_count": 237,
   "metadata": {},
   "outputs": [],
   "source": [
    "X_train_qtr = X_train[['Q1_Plays', 'Q2_Plays', 'Q3_Plays', 'Q4_Plays']]\n",
    "X_test_qtr = X_test[['Q1_Plays', 'Q2_Plays', 'Q3_Plays', 'Q4_Plays']]"
   ]
  },
  {
   "cell_type": "code",
   "execution_count": 245,
   "metadata": {},
   "outputs": [
    {
     "name": "stdout",
     "output_type": "stream",
     "text": [
      "0.7692307692307693\n"
     ]
    }
   ],
   "source": [
    "logreg_qtr = LogisticRegression(solver='saga')\n",
    "logreg_qtr.fit(X_train_qtr, y_train)\n",
    "\n",
    "print(logreg_qtr.score(X_test_qtr, y_test))"
   ]
  },
  {
   "cell_type": "markdown",
   "metadata": {},
   "source": [
    "### Decision Tree"
   ]
  },
  {
   "cell_type": "code",
   "execution_count": null,
   "metadata": {},
   "outputs": [],
   "source": [
    "tree = DecisionTreeClassifier(criterion = 'entropy')"
   ]
  },
  {
   "cell_type": "code",
   "execution_count": 246,
   "metadata": {},
   "outputs": [
    {
     "data": {
      "text/plain": [
       "0.7192719949426022"
      ]
     },
     "execution_count": 246,
     "metadata": {},
     "output_type": "execute_result"
    }
   ],
   "source": [
    "tree_scores = []\n",
    "\n",
    "for ii in range(1, 500):\n",
    "    tree.fit(X_train, y_train)\n",
    "\n",
    "    tree_scores.append(tree.score(X_test, y_test))\n",
    "    \n",
    "mean(tree_scores)"
   ]
  },
  {
   "cell_type": "code",
   "execution_count": 247,
   "metadata": {},
   "outputs": [
    {
     "data": {
      "text/plain": [
       "0.7244552619706598"
      ]
     },
     "execution_count": 247,
     "metadata": {},
     "output_type": "execute_result"
    }
   ],
   "source": [
    "tree_scores_f = []\n",
    "\n",
    "for ii in range(1, 500):\n",
    "    tree.fit(X_train_f, y_train)\n",
    "\n",
    "    tree_scores_f.append(tree.score(X_test_f, y_test))\n",
    "    \n",
    "mean(tree_scores_f)"
   ]
  },
  {
   "cell_type": "code",
   "execution_count": null,
   "metadata": {},
   "outputs": [],
   "source": []
  },
  {
   "cell_type": "code",
   "execution_count": null,
   "metadata": {},
   "outputs": [],
   "source": []
  }
 ],
 "metadata": {
  "kernelspec": {
   "display_name": "Python 3",
   "language": "python",
   "name": "python3"
  },
  "language_info": {
   "codemirror_mode": {
    "name": "ipython",
    "version": 3
   },
   "file_extension": ".py",
   "mimetype": "text/x-python",
   "name": "python",
   "nbconvert_exporter": "python",
   "pygments_lexer": "ipython3",
   "version": "3.7.3"
  },
  "toc": {
   "base_numbering": 1,
   "nav_menu": {},
   "number_sections": true,
   "sideBar": true,
   "skip_h1_title": false,
   "title_cell": "Table of Contents",
   "title_sidebar": "Contents",
   "toc_cell": false,
   "toc_position": {},
   "toc_section_display": true,
   "toc_window_display": false
  }
 },
 "nbformat": 4,
 "nbformat_minor": 2
}
